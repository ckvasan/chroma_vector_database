{
 "cells": [
  {
   "cell_type": "code",
   "execution_count": 49,
   "id": "664bc2f4",
   "metadata": {},
   "outputs": [
    {
     "name": "stdout",
     "output_type": "stream",
     "text": [
      "Requirement already satisfied: chromadb in d:\\ai\\software\\anaconda3\\lib\\site-packages (0.5.3)\n",
      "Requirement already satisfied: build>=1.0.3 in d:\\ai\\software\\anaconda3\\lib\\site-packages (from chromadb) (1.2.1)\n",
      "Requirement already satisfied: requests>=2.28 in d:\\ai\\software\\anaconda3\\lib\\site-packages (from chromadb) (2.32.3)\n",
      "Requirement already satisfied: pydantic>=1.9 in d:\\ai\\software\\anaconda3\\lib\\site-packages (from chromadb) (2.6.3)\n",
      "Requirement already satisfied: chroma-hnswlib==0.7.3 in d:\\ai\\software\\anaconda3\\lib\\site-packages (from chromadb) (0.7.3)\n",
      "Requirement already satisfied: fastapi>=0.95.2 in d:\\ai\\software\\anaconda3\\lib\\site-packages (from chromadb) (0.111.0)\n",
      "Requirement already satisfied: uvicorn>=0.18.3 in d:\\ai\\software\\anaconda3\\lib\\site-packages (from uvicorn[standard]>=0.18.3->chromadb) (0.30.1)\n",
      "Requirement already satisfied: numpy<2.0.0,>=1.22.5 in d:\\ai\\software\\anaconda3\\lib\\site-packages (from chromadb) (1.24.3)\n",
      "Requirement already satisfied: posthog>=2.4.0 in d:\\ai\\software\\anaconda3\\lib\\site-packages (from chromadb) (3.5.0)\n",
      "Requirement already satisfied: typing-extensions>=4.5.0 in d:\\ai\\software\\anaconda3\\lib\\site-packages (from chromadb) (4.12.2)\n",
      "Requirement already satisfied: onnxruntime>=1.14.1 in d:\\ai\\software\\anaconda3\\lib\\site-packages (from chromadb) (1.18.1)\n",
      "Requirement already satisfied: opentelemetry-api>=1.2.0 in d:\\ai\\software\\anaconda3\\lib\\site-packages (from chromadb) (1.25.0)\n",
      "Requirement already satisfied: opentelemetry-exporter-otlp-proto-grpc>=1.2.0 in d:\\ai\\software\\anaconda3\\lib\\site-packages (from chromadb) (1.25.0)\n",
      "Requirement already satisfied: opentelemetry-instrumentation-fastapi>=0.41b0 in d:\\ai\\software\\anaconda3\\lib\\site-packages (from chromadb) (0.46b0)\n",
      "Requirement already satisfied: opentelemetry-sdk>=1.2.0 in d:\\ai\\software\\anaconda3\\lib\\site-packages (from chromadb) (1.25.0)\n",
      "Requirement already satisfied: tokenizers>=0.13.2 in d:\\ai\\software\\anaconda3\\lib\\site-packages (from chromadb) (0.19.1)\n",
      "Requirement already satisfied: pypika>=0.48.9 in d:\\ai\\software\\anaconda3\\lib\\site-packages (from chromadb) (0.48.9)\n",
      "Requirement already satisfied: tqdm>=4.65.0 in d:\\ai\\software\\anaconda3\\lib\\site-packages (from chromadb) (4.66.4)\n",
      "Requirement already satisfied: overrides>=7.3.1 in d:\\ai\\software\\anaconda3\\lib\\site-packages (from chromadb) (7.7.0)\n",
      "Requirement already satisfied: importlib-resources in d:\\ai\\software\\anaconda3\\lib\\site-packages (from chromadb) (6.4.0)\n",
      "Requirement already satisfied: grpcio>=1.58.0 in d:\\ai\\software\\anaconda3\\lib\\site-packages (from chromadb) (1.62.2)\n",
      "Requirement already satisfied: bcrypt>=4.0.1 in d:\\ai\\software\\anaconda3\\lib\\site-packages (from chromadb) (4.1.3)\n",
      "Requirement already satisfied: typer>=0.9.0 in d:\\ai\\software\\anaconda3\\lib\\site-packages (from chromadb) (0.12.3)\n",
      "Requirement already satisfied: kubernetes>=28.1.0 in d:\\ai\\software\\anaconda3\\lib\\site-packages (from chromadb) (30.1.0)\n",
      "Requirement already satisfied: tenacity>=8.2.3 in d:\\ai\\software\\anaconda3\\lib\\site-packages (from chromadb) (8.4.2)\n",
      "Requirement already satisfied: PyYAML>=6.0.0 in d:\\ai\\software\\anaconda3\\lib\\site-packages (from chromadb) (6.0)\n",
      "Requirement already satisfied: mmh3>=4.0.1 in d:\\ai\\software\\anaconda3\\lib\\site-packages (from chromadb) (4.1.0)\n",
      "Requirement already satisfied: orjson>=3.9.12 in d:\\ai\\software\\anaconda3\\lib\\site-packages (from chromadb) (3.9.15)\n",
      "Requirement already satisfied: httpx>=0.27.0 in d:\\ai\\software\\anaconda3\\lib\\site-packages (from chromadb) (0.27.0)\n",
      "Requirement already satisfied: packaging>=19.1 in d:\\ai\\software\\anaconda3\\lib\\site-packages (from build>=1.0.3->chromadb) (23.2)\n",
      "Requirement already satisfied: pyproject_hooks in d:\\ai\\software\\anaconda3\\lib\\site-packages (from build>=1.0.3->chromadb) (1.1.0)\n",
      "Requirement already satisfied: colorama in d:\\ai\\software\\anaconda3\\lib\\site-packages (from build>=1.0.3->chromadb) (0.4.6)\n",
      "Requirement already satisfied: starlette<0.38.0,>=0.37.2 in d:\\ai\\software\\anaconda3\\lib\\site-packages (from fastapi>=0.95.2->chromadb) (0.37.2)\n",
      "Requirement already satisfied: fastapi-cli>=0.0.2 in d:\\ai\\software\\anaconda3\\lib\\site-packages (from fastapi>=0.95.2->chromadb) (0.0.4)\n",
      "Requirement already satisfied: jinja2>=2.11.2 in d:\\ai\\software\\anaconda3\\lib\\site-packages (from fastapi>=0.95.2->chromadb) (3.1.2)\n",
      "Requirement already satisfied: python-multipart>=0.0.7 in d:\\ai\\software\\anaconda3\\lib\\site-packages (from fastapi>=0.95.2->chromadb) (0.0.9)\n",
      "Requirement already satisfied: ujson!=4.0.2,!=4.1.0,!=4.2.0,!=4.3.0,!=5.0.0,!=5.1.0,>=4.0.1 in d:\\ai\\software\\anaconda3\\lib\\site-packages (from fastapi>=0.95.2->chromadb) (5.4.0)\n",
      "Requirement already satisfied: email_validator>=2.0.0 in d:\\ai\\software\\anaconda3\\lib\\site-packages (from fastapi>=0.95.2->chromadb) (2.2.0)\n",
      "Requirement already satisfied: anyio in d:\\ai\\software\\anaconda3\\lib\\site-packages (from httpx>=0.27.0->chromadb) (3.5.0)\n",
      "Requirement already satisfied: certifi in d:\\ai\\software\\anaconda3\\lib\\site-packages (from httpx>=0.27.0->chromadb) (2023.7.22)\n",
      "Requirement already satisfied: httpcore==1.* in d:\\ai\\software\\anaconda3\\lib\\site-packages (from httpx>=0.27.0->chromadb) (1.0.4)\n",
      "Requirement already satisfied: idna in d:\\ai\\software\\anaconda3\\lib\\site-packages (from httpx>=0.27.0->chromadb) (3.4)\n",
      "Requirement already satisfied: sniffio in d:\\ai\\software\\anaconda3\\lib\\site-packages (from httpx>=0.27.0->chromadb) (1.2.0)\n",
      "Requirement already satisfied: h11<0.15,>=0.13 in d:\\ai\\software\\anaconda3\\lib\\site-packages (from httpcore==1.*->httpx>=0.27.0->chromadb) (0.14.0)\n",
      "Requirement already satisfied: six>=1.9.0 in d:\\ai\\software\\anaconda3\\lib\\site-packages (from kubernetes>=28.1.0->chromadb) (1.16.0)\n",
      "Requirement already satisfied: python-dateutil>=2.5.3 in d:\\ai\\software\\anaconda3\\lib\\site-packages (from kubernetes>=28.1.0->chromadb) (2.8.2)\n",
      "Requirement already satisfied: google-auth>=1.0.1 in d:\\ai\\software\\anaconda3\\lib\\site-packages (from kubernetes>=28.1.0->chromadb) (2.31.0)\n",
      "Requirement already satisfied: websocket-client!=0.40.0,!=0.41.*,!=0.42.*,>=0.32.0 in d:\\ai\\software\\anaconda3\\lib\\site-packages (from kubernetes>=28.1.0->chromadb) (0.58.0)\n",
      "Requirement already satisfied: requests-oauthlib in d:\\ai\\software\\anaconda3\\lib\\site-packages (from kubernetes>=28.1.0->chromadb) (2.0.0)\n",
      "Requirement already satisfied: oauthlib>=3.2.2 in d:\\ai\\software\\anaconda3\\lib\\site-packages (from kubernetes>=28.1.0->chromadb) (3.2.2)\n",
      "Requirement already satisfied: urllib3>=1.24.2 in d:\\ai\\software\\anaconda3\\lib\\site-packages (from kubernetes>=28.1.0->chromadb) (1.26.16)\n",
      "Requirement already satisfied: coloredlogs in d:\\ai\\software\\anaconda3\\lib\\site-packages (from onnxruntime>=1.14.1->chromadb) (15.0.1)\n",
      "Requirement already satisfied: flatbuffers in d:\\ai\\software\\anaconda3\\lib\\site-packages (from onnxruntime>=1.14.1->chromadb) (24.3.25)\n",
      "Requirement already satisfied: protobuf in d:\\ai\\software\\anaconda3\\lib\\site-packages (from onnxruntime>=1.14.1->chromadb) (4.25.3)\n",
      "Requirement already satisfied: sympy in d:\\ai\\software\\anaconda3\\lib\\site-packages (from onnxruntime>=1.14.1->chromadb) (1.11.1)\n",
      "Requirement already satisfied: deprecated>=1.2.6 in d:\\ai\\software\\anaconda3\\lib\\site-packages (from opentelemetry-api>=1.2.0->chromadb) (1.2.14)\n",
      "Requirement already satisfied: importlib-metadata<=7.1,>=6.0 in d:\\ai\\software\\anaconda3\\lib\\site-packages (from opentelemetry-api>=1.2.0->chromadb) (6.0.0)\n",
      "Requirement already satisfied: googleapis-common-protos~=1.52 in d:\\ai\\software\\anaconda3\\lib\\site-packages (from opentelemetry-exporter-otlp-proto-grpc>=1.2.0->chromadb) (1.63.2)\n",
      "Requirement already satisfied: opentelemetry-exporter-otlp-proto-common==1.25.0 in d:\\ai\\software\\anaconda3\\lib\\site-packages (from opentelemetry-exporter-otlp-proto-grpc>=1.2.0->chromadb) (1.25.0)\n",
      "Requirement already satisfied: opentelemetry-proto==1.25.0 in d:\\ai\\software\\anaconda3\\lib\\site-packages (from opentelemetry-exporter-otlp-proto-grpc>=1.2.0->chromadb) (1.25.0)\n",
      "Requirement already satisfied: opentelemetry-instrumentation-asgi==0.46b0 in d:\\ai\\software\\anaconda3\\lib\\site-packages (from opentelemetry-instrumentation-fastapi>=0.41b0->chromadb) (0.46b0)\n",
      "Requirement already satisfied: opentelemetry-instrumentation==0.46b0 in d:\\ai\\software\\anaconda3\\lib\\site-packages (from opentelemetry-instrumentation-fastapi>=0.41b0->chromadb) (0.46b0)\n",
      "Requirement already satisfied: opentelemetry-semantic-conventions==0.46b0 in d:\\ai\\software\\anaconda3\\lib\\site-packages (from opentelemetry-instrumentation-fastapi>=0.41b0->chromadb) (0.46b0)\n",
      "Requirement already satisfied: opentelemetry-util-http==0.46b0 in d:\\ai\\software\\anaconda3\\lib\\site-packages (from opentelemetry-instrumentation-fastapi>=0.41b0->chromadb) (0.46b0)\n",
      "Requirement already satisfied: setuptools>=16.0 in d:\\ai\\software\\anaconda3\\lib\\site-packages (from opentelemetry-instrumentation==0.46b0->opentelemetry-instrumentation-fastapi>=0.41b0->chromadb) (68.0.0)\n",
      "Requirement already satisfied: wrapt<2.0.0,>=1.0.0 in d:\\ai\\software\\anaconda3\\lib\\site-packages (from opentelemetry-instrumentation==0.46b0->opentelemetry-instrumentation-fastapi>=0.41b0->chromadb) (1.14.1)\n",
      "Requirement already satisfied: asgiref~=3.0 in d:\\ai\\software\\anaconda3\\lib\\site-packages (from opentelemetry-instrumentation-asgi==0.46b0->opentelemetry-instrumentation-fastapi>=0.41b0->chromadb) (3.8.1)\n",
      "Requirement already satisfied: monotonic>=1.5 in d:\\ai\\software\\anaconda3\\lib\\site-packages (from posthog>=2.4.0->chromadb) (1.6)\n",
      "Requirement already satisfied: backoff>=1.10.0 in d:\\ai\\software\\anaconda3\\lib\\site-packages (from posthog>=2.4.0->chromadb) (2.2.1)\n",
      "Requirement already satisfied: annotated-types>=0.4.0 in d:\\ai\\software\\anaconda3\\lib\\site-packages (from pydantic>=1.9->chromadb) (0.6.0)\n",
      "Requirement already satisfied: pydantic-core==2.16.3 in d:\\ai\\software\\anaconda3\\lib\\site-packages (from pydantic>=1.9->chromadb) (2.16.3)\n",
      "Requirement already satisfied: charset-normalizer<4,>=2 in d:\\ai\\software\\anaconda3\\lib\\site-packages (from requests>=2.28->chromadb) (2.0.4)\n",
      "Requirement already satisfied: huggingface-hub<1.0,>=0.16.4 in d:\\ai\\software\\anaconda3\\lib\\site-packages (from tokenizers>=0.13.2->chromadb) (0.23.0)\n",
      "Requirement already satisfied: click>=8.0.0 in d:\\ai\\software\\anaconda3\\lib\\site-packages (from typer>=0.9.0->chromadb) (8.0.4)\n",
      "Requirement already satisfied: shellingham>=1.3.0 in d:\\ai\\software\\anaconda3\\lib\\site-packages (from typer>=0.9.0->chromadb) (1.5.4)\n",
      "Requirement already satisfied: rich>=10.11.0 in d:\\ai\\software\\anaconda3\\lib\\site-packages (from typer>=0.9.0->chromadb) (13.7.1)\n",
      "Requirement already satisfied: httptools>=0.5.0 in d:\\ai\\software\\anaconda3\\lib\\site-packages (from uvicorn[standard]>=0.18.3->chromadb) (0.6.1)\n",
      "Requirement already satisfied: python-dotenv>=0.13 in d:\\ai\\software\\anaconda3\\lib\\site-packages (from uvicorn[standard]>=0.18.3->chromadb) (1.0.0)\n",
      "Requirement already satisfied: watchfiles>=0.13 in d:\\ai\\software\\anaconda3\\lib\\site-packages (from uvicorn[standard]>=0.18.3->chromadb) (0.22.0)\n",
      "Requirement already satisfied: websockets>=10.4 in d:\\ai\\software\\anaconda3\\lib\\site-packages (from uvicorn[standard]>=0.18.3->chromadb) (12.0)\n",
      "Requirement already satisfied: dnspython>=2.0.0 in d:\\ai\\software\\anaconda3\\lib\\site-packages (from email_validator>=2.0.0->fastapi>=0.95.2->chromadb) (2.6.1)\n",
      "Requirement already satisfied: cachetools<6.0,>=2.0.0 in d:\\ai\\software\\anaconda3\\lib\\site-packages (from google-auth>=1.0.1->kubernetes>=28.1.0->chromadb) (5.3.3)\n",
      "Requirement already satisfied: pyasn1-modules>=0.2.1 in d:\\ai\\software\\anaconda3\\lib\\site-packages (from google-auth>=1.0.1->kubernetes>=28.1.0->chromadb) (0.2.8)\n",
      "Requirement already satisfied: rsa<5,>=3.1.4 in d:\\ai\\software\\anaconda3\\lib\\site-packages (from google-auth>=1.0.1->kubernetes>=28.1.0->chromadb) (4.9)\n",
      "Requirement already satisfied: filelock in d:\\ai\\software\\anaconda3\\lib\\site-packages (from huggingface-hub<1.0,>=0.16.4->tokenizers>=0.13.2->chromadb) (3.9.0)\n",
      "Requirement already satisfied: fsspec>=2023.5.0 in d:\\ai\\software\\anaconda3\\lib\\site-packages (from huggingface-hub<1.0,>=0.16.4->tokenizers>=0.13.2->chromadb) (2024.3.1)\n",
      "Requirement already satisfied: zipp>=0.5 in d:\\ai\\software\\anaconda3\\lib\\site-packages (from importlib-metadata<=7.1,>=6.0->opentelemetry-api>=1.2.0->chromadb) (3.11.0)\n",
      "Requirement already satisfied: MarkupSafe>=2.0 in d:\\ai\\software\\anaconda3\\lib\\site-packages (from jinja2>=2.11.2->fastapi>=0.95.2->chromadb) (2.1.1)\n",
      "Requirement already satisfied: markdown-it-py>=2.2.0 in d:\\ai\\software\\anaconda3\\lib\\site-packages (from rich>=10.11.0->typer>=0.9.0->chromadb) (2.2.0)\n",
      "Requirement already satisfied: pygments<3.0.0,>=2.13.0 in d:\\ai\\software\\anaconda3\\lib\\site-packages (from rich>=10.11.0->typer>=0.9.0->chromadb) (2.15.1)\n",
      "Requirement already satisfied: humanfriendly>=9.1 in d:\\ai\\software\\anaconda3\\lib\\site-packages (from coloredlogs->onnxruntime>=1.14.1->chromadb) (10.0)\n",
      "Requirement already satisfied: mpmath>=0.19 in d:\\ai\\software\\anaconda3\\lib\\site-packages (from sympy->onnxruntime>=1.14.1->chromadb) (1.3.0)\n",
      "Requirement already satisfied: pyreadline3 in d:\\ai\\software\\anaconda3\\lib\\site-packages (from humanfriendly>=9.1->coloredlogs->onnxruntime>=1.14.1->chromadb) (3.4.1)\n",
      "Requirement already satisfied: mdurl~=0.1 in d:\\ai\\software\\anaconda3\\lib\\site-packages (from markdown-it-py>=2.2.0->rich>=10.11.0->typer>=0.9.0->chromadb) (0.1.0)\n",
      "Requirement already satisfied: pyasn1<0.5.0,>=0.4.6 in d:\\ai\\software\\anaconda3\\lib\\site-packages (from pyasn1-modules>=0.2.1->google-auth>=1.0.1->kubernetes>=28.1.0->chromadb) (0.4.8)\n",
      "Note: you may need to restart the kernel to use updated packages.\n"
     ]
    }
   ],
   "source": [
    "pip install chromadb"
   ]
  },
  {
   "cell_type": "code",
   "execution_count": 50,
   "id": "e007f7ca",
   "metadata": {},
   "outputs": [],
   "source": [
    "import chromadb\n",
    "client = chromadb.PersistentClient(path=\"C:/Users/ckv20/vector_data_store\")"
   ]
  },
  {
   "cell_type": "code",
   "execution_count": 57,
   "id": "fec9a947",
   "metadata": {},
   "outputs": [],
   "source": [
    "collection = client.create_collection(\"my_collection\")\n",
    "\n",
    "\n",
    "collection.add(\n",
    "    documents=[\"This is a document containing car information\",\n",
    "    \"This is a document containing information about dogs\", \n",
    "    \"This document contains four wheeler catalogue\"],\n",
    "    metadatas=[{\"source\": \"Car Book\"},{\"source\": \"Dog Book\"},{'source':'Vechile Info'}],\n",
    "    ids=[\"id1\", \"id2\", \"id3\"]\n",
    ")"
   ]
  },
  {
   "cell_type": "code",
   "execution_count": 58,
   "id": "0f2532bf",
   "metadata": {},
   "outputs": [],
   "source": [
    "collection = client.get_collection(\"my_collection\")\n",
    "result = collection.query(query_texts= ['Passenger vehicle'],n_results=2)"
   ]
  },
  {
   "cell_type": "code",
   "execution_count": 5,
   "id": "604ec72f",
   "metadata": {},
   "outputs": [
    {
     "data": {
      "text/plain": [
       "{'ids': [['id1', 'id3']],\n",
       " 'distances': [[1.1303800769401344, 1.438492413601688]],\n",
       " 'metadatas': [[{'source': 'Car Book'}, {'source': 'Vechile Info'}]],\n",
       " 'embeddings': None,\n",
       " 'documents': [['This is a document containing car information',\n",
       "   'This document contains four wheeler catalogue']],\n",
       " 'uris': None,\n",
       " 'data': None,\n",
       " 'included': ['metadatas', 'documents', 'distances']}"
      ]
     },
     "execution_count": 5,
     "metadata": {},
     "output_type": "execute_result"
    }
   ],
   "source": [
    "result"
   ]
  },
  {
   "cell_type": "code",
   "execution_count": 9,
   "id": "f1ca6fb9",
   "metadata": {},
   "outputs": [],
   "source": [
    "result = collection.query(query_texts= ['Passenger vehicle'],n_results=1)"
   ]
  },
  {
   "cell_type": "code",
   "execution_count": 10,
   "id": "ee08cade",
   "metadata": {},
   "outputs": [
    {
     "data": {
      "text/plain": [
       "{'ids': [['id1']],\n",
       " 'distances': [[1.1303800769401344]],\n",
       " 'metadatas': [[{'source': 'Car Book'}]],\n",
       " 'embeddings': None,\n",
       " 'documents': [['This is a document containing car information']],\n",
       " 'uris': None,\n",
       " 'data': None,\n",
       " 'included': ['metadatas', 'documents', 'distances']}"
      ]
     },
     "execution_count": 10,
     "metadata": {},
     "output_type": "execute_result"
    }
   ],
   "source": [
    "result"
   ]
  },
  {
   "cell_type": "code",
   "execution_count": 14,
   "id": "e18c7187",
   "metadata": {},
   "outputs": [],
   "source": [
    "result = collection.query(query_texts= ['Passenger vehicle'],n_results=2)"
   ]
  },
  {
   "cell_type": "code",
   "execution_count": 18,
   "id": "568163ee",
   "metadata": {},
   "outputs": [
    {
     "name": "stdout",
     "output_type": "stream",
     "text": [
      "Most closest semantic search  >> This is a document containing car information\n"
     ]
    }
   ],
   "source": [
    "print (f\"Most closest semantic search  >> {result.get('documents')[0][0]}\")"
   ]
  },
  {
   "cell_type": "code",
   "execution_count": 19,
   "id": "2adfc178",
   "metadata": {},
   "outputs": [
    {
     "name": "stdout",
     "output_type": "stream",
     "text": [
      "less closest semantic search  >> This document contains four wheeler catalogue\n"
     ]
    }
   ],
   "source": [
    "print (f\"Least closest semantic search  >> {result.get('documents')[0][1]}\")"
   ]
  },
  {
   "cell_type": "code",
   "execution_count": 23,
   "id": "0ca8bc4e",
   "metadata": {},
   "outputs": [],
   "source": [
    "result = collection.query(query_texts= ['Passenger vehicle'],n_results=2,where_document={'$contains':  \"document \"})"
   ]
  },
  {
   "cell_type": "code",
   "execution_count": 24,
   "id": "1d39ffe8",
   "metadata": {},
   "outputs": [
    {
     "data": {
      "text/plain": [
       "{'ids': [['id1', 'id3']],\n",
       " 'distances': [[1.1303800769401344, 1.438492413601688]],\n",
       " 'metadatas': [[{'source': 'Car Book'}, {'source': 'Vechile Info'}]],\n",
       " 'embeddings': None,\n",
       " 'documents': [['This is a document containing car information',\n",
       "   'This document contains four wheeler catalogue']],\n",
       " 'uris': None,\n",
       " 'data': None,\n",
       " 'included': ['metadatas', 'documents', 'distances']}"
      ]
     },
     "execution_count": 24,
     "metadata": {},
     "output_type": "execute_result"
    }
   ],
   "source": [
    "result"
   ]
  },
  {
   "cell_type": "code",
   "execution_count": 25,
   "id": "48d8060f",
   "metadata": {},
   "outputs": [],
   "source": [
    "result = collection.query(query_texts= ['Passenger vehicle'],n_results=2,where_document={'$contains':  \"car\"})"
   ]
  },
  {
   "cell_type": "code",
   "execution_count": 26,
   "id": "6aa94835",
   "metadata": {},
   "outputs": [
    {
     "data": {
      "text/plain": [
       "{'ids': [['id1']],\n",
       " 'distances': [[1.1303800769401344]],\n",
       " 'metadatas': [[{'source': 'Car Book'}]],\n",
       " 'embeddings': None,\n",
       " 'documents': [['This is a document containing car information']],\n",
       " 'uris': None,\n",
       " 'data': None,\n",
       " 'included': ['metadatas', 'documents', 'distances']}"
      ]
     },
     "execution_count": 26,
     "metadata": {},
     "output_type": "execute_result"
    }
   ],
   "source": [
    "result"
   ]
  },
  {
   "cell_type": "code",
   "execution_count": 27,
   "id": "e06c1c00",
   "metadata": {},
   "outputs": [],
   "source": [
    "result = collection.query(query_texts= ['Passenger vehicle'],n_results=2,where_document={'$contains':  \"wheeler\"})"
   ]
  },
  {
   "cell_type": "code",
   "execution_count": 28,
   "id": "42bb5329",
   "metadata": {},
   "outputs": [
    {
     "data": {
      "text/plain": [
       "{'ids': [['id3']],\n",
       " 'distances': [[1.438492413601688]],\n",
       " 'metadatas': [[{'source': 'Vechile Info'}]],\n",
       " 'embeddings': None,\n",
       " 'documents': [['This document contains four wheeler catalogue']],\n",
       " 'uris': None,\n",
       " 'data': None,\n",
       " 'included': ['metadatas', 'documents', 'distances']}"
      ]
     },
     "execution_count": 28,
     "metadata": {},
     "output_type": "execute_result"
    }
   ],
   "source": [
    "result"
   ]
  },
  {
   "cell_type": "code",
   "execution_count": 29,
   "id": "97acb791",
   "metadata": {},
   "outputs": [],
   "source": [
    "result = collection.query(query_texts= ['Passenger vehicle'],n_results=2,where_document={'$contains':  \"bike\"})"
   ]
  },
  {
   "cell_type": "code",
   "execution_count": 30,
   "id": "a1f2e854",
   "metadata": {},
   "outputs": [
    {
     "data": {
      "text/plain": [
       "{'ids': [[]],\n",
       " 'distances': [[]],\n",
       " 'metadatas': [[]],\n",
       " 'embeddings': None,\n",
       " 'documents': [[]],\n",
       " 'uris': None,\n",
       " 'data': None,\n",
       " 'included': ['metadatas', 'documents', 'distances']}"
      ]
     },
     "execution_count": 30,
     "metadata": {},
     "output_type": "execute_result"
    }
   ],
   "source": [
    "result"
   ]
  },
  {
   "cell_type": "code",
   "execution_count": 31,
   "id": "eb498ead",
   "metadata": {},
   "outputs": [],
   "source": [
    "result = collection.query(query_texts= ['Passenger vehicle'],n_results=2,where_document={'$contains':  \"document \"})"
   ]
  },
  {
   "cell_type": "code",
   "execution_count": 32,
   "id": "16e33cc4",
   "metadata": {},
   "outputs": [
    {
     "data": {
      "text/plain": [
       "{'ids': [['id1', 'id3']],\n",
       " 'distances': [[1.1303800769401344, 1.438492413601688]],\n",
       " 'metadatas': [[{'source': 'Car Book'}, {'source': 'Vechile Info'}]],\n",
       " 'embeddings': None,\n",
       " 'documents': [['This is a document containing car information',\n",
       "   'This document contains four wheeler catalogue']],\n",
       " 'uris': None,\n",
       " 'data': None,\n",
       " 'included': ['metadatas', 'documents', 'distances']}"
      ]
     },
     "execution_count": 32,
     "metadata": {},
     "output_type": "execute_result"
    }
   ],
   "source": [
    "result"
   ]
  },
  {
   "cell_type": "code",
   "execution_count": 37,
   "id": "85949a18",
   "metadata": {},
   "outputs": [],
   "source": [
    "# dogs other name is poddle\n",
    "result = collection.query(query_texts= ['Podle'],n_results=2)"
   ]
  },
  {
   "cell_type": "code",
   "execution_count": 38,
   "id": "c345b53b",
   "metadata": {},
   "outputs": [
    {
     "data": {
      "text/plain": [
       "{'ids': [['id2', 'id1']],\n",
       " 'distances': [[1.703480663898096, 1.7068537888867923]],\n",
       " 'metadatas': [[{'source': 'Dog Book'}, {'source': 'Car Book'}]],\n",
       " 'embeddings': None,\n",
       " 'documents': [['This is a document containing information about dogs',\n",
       "   'This is a document containing car information']],\n",
       " 'uris': None,\n",
       " 'data': None,\n",
       " 'included': ['metadatas', 'documents', 'distances']}"
      ]
     },
     "execution_count": 38,
     "metadata": {},
     "output_type": "execute_result"
    }
   ],
   "source": [
    "result"
   ]
  },
  {
   "cell_type": "code",
   "execution_count": 6,
   "id": "894b462c",
   "metadata": {},
   "outputs": [],
   "source": [
    "result = collection.query(query_texts= ['Passenger vehicle'],n_results=2,where_document={'$contains':  \"document \"})"
   ]
  },
  {
   "cell_type": "code",
   "execution_count": null,
   "id": "240f1bd9",
   "metadata": {},
   "outputs": [],
   "source": [
    "# To vizaualize chromadb"
   ]
  },
  {
   "cell_type": "code",
   "execution_count": 8,
   "id": "4d384f60",
   "metadata": {},
   "outputs": [
    {
     "name": "stdout",
     "output_type": "stream",
     "text": [
      "Note: you may need to restart the kernel to use updated packages.\n"
     ]
    },
    {
     "name": "stderr",
     "output_type": "stream",
     "text": [
      "ERROR: Could not find a version that satisfies the requirement chromaviz==0.0.2 (from versions: none)\n",
      "ERROR: No matching distribution found for chromaviz==0.0.2\n"
     ]
    }
   ],
   "source": [
    "pip install chromaviz==0.0.2"
   ]
  },
  {
   "cell_type": "code",
   "execution_count": 16,
   "id": "5e0c51e3",
   "metadata": {},
   "outputs": [
    {
     "data": {
      "text/plain": [
       "{'ids': ['id1', 'id2', 'id3'],\n",
       " 'embeddings': None,\n",
       " 'metadatas': [{'source': 'Car Book'},\n",
       "  {'source': 'Dog Book'},\n",
       "  {'source': 'Vechile Info'}],\n",
       " 'documents': ['This is a document containing car information',\n",
       "  'This is a document containing information about dogs',\n",
       "  'This document contains four wheeler catalogue'],\n",
       " 'uris': None,\n",
       " 'data': None,\n",
       " 'included': ['metadatas', 'documents']}"
      ]
     },
     "execution_count": 16,
     "metadata": {},
     "output_type": "execute_result"
    }
   ],
   "source": [
    "collection.get()"
   ]
  },
  {
   "cell_type": "code",
   "execution_count": 17,
   "id": "23ff72b4",
   "metadata": {},
   "outputs": [
    {
     "data": {
      "text/plain": [
       "['__annotations__',\n",
       " '__class__',\n",
       " '__class_getitem__',\n",
       " '__delattr__',\n",
       " '__dict__',\n",
       " '__dir__',\n",
       " '__doc__',\n",
       " '__eq__',\n",
       " '__format__',\n",
       " '__ge__',\n",
       " '__getattribute__',\n",
       " '__getstate__',\n",
       " '__gt__',\n",
       " '__hash__',\n",
       " '__init__',\n",
       " '__init_subclass__',\n",
       " '__le__',\n",
       " '__lt__',\n",
       " '__module__',\n",
       " '__ne__',\n",
       " '__new__',\n",
       " '__orig_bases__',\n",
       " '__parameters__',\n",
       " '__reduce__',\n",
       " '__reduce_ex__',\n",
       " '__repr__',\n",
       " '__setattr__',\n",
       " '__sizeof__',\n",
       " '__slots__',\n",
       " '__str__',\n",
       " '__subclasshook__',\n",
       " '__weakref__',\n",
       " '_client',\n",
       " '_data_loader',\n",
       " '_embed',\n",
       " '_embedding_function',\n",
       " '_is_protocol',\n",
       " '_model',\n",
       " '_normalize_embeddings',\n",
       " '_transform_get_response',\n",
       " '_transform_query_response',\n",
       " '_update_model_after_modify_success',\n",
       " '_validate_and_prepare_delete_request',\n",
       " '_validate_and_prepare_embedding_set',\n",
       " '_validate_and_prepare_get_request',\n",
       " '_validate_and_prepare_query_request',\n",
       " '_validate_and_prepare_update_request',\n",
       " '_validate_and_prepare_upsert_request',\n",
       " '_validate_embedding_set',\n",
       " '_validate_modify_request',\n",
       " 'add',\n",
       " 'count',\n",
       " 'database',\n",
       " 'delete',\n",
       " 'get',\n",
       " 'get_model',\n",
       " 'id',\n",
       " 'metadata',\n",
       " 'modify',\n",
       " 'name',\n",
       " 'peek',\n",
       " 'query',\n",
       " 'tenant',\n",
       " 'update',\n",
       " 'upsert']"
      ]
     },
     "execution_count": 17,
     "metadata": {},
     "output_type": "execute_result"
    }
   ],
   "source": [
    "dir(collection)"
   ]
  },
  {
   "cell_type": "code",
   "execution_count": 19,
   "id": "4da56c77",
   "metadata": {},
   "outputs": [],
   "source": [
    "emb = collection.peek()"
   ]
  },
  {
   "cell_type": "code",
   "execution_count": 21,
   "id": "f593ac61",
   "metadata": {},
   "outputs": [
    {
     "data": {
      "text/plain": [
       "3"
      ]
     },
     "execution_count": 21,
     "metadata": {},
     "output_type": "execute_result"
    }
   ],
   "source": [
    "len(emb['embeddings'])"
   ]
  },
  {
   "cell_type": "code",
   "execution_count": 22,
   "id": "4d868a61",
   "metadata": {},
   "outputs": [
    {
     "data": {
      "text/plain": [
       "{'ids': ['id1', 'id2', 'id3'],\n",
       " 'embeddings': None,\n",
       " 'metadatas': [{'source': 'Car Book'},\n",
       "  {'source': 'Dog Book'},\n",
       "  {'source': 'Vechile Info'}],\n",
       " 'documents': ['This is a document containing car information',\n",
       "  'This is a document containing information about dogs',\n",
       "  'This document contains four wheeler catalogue'],\n",
       " 'uris': None,\n",
       " 'data': None,\n",
       " 'included': ['metadatas', 'documents']}"
      ]
     },
     "execution_count": 22,
     "metadata": {},
     "output_type": "execute_result"
    }
   ],
   "source": [
    "collection.get()"
   ]
  },
  {
   "cell_type": "code",
   "execution_count": 25,
   "id": "c8ad467c",
   "metadata": {},
   "outputs": [],
   "source": [
    "collection.update(ids=['id2'],metadatas=[{'source':'Bike Book'}], documents= ['This is a document containing Bike information'])"
   ]
  },
  {
   "cell_type": "code",
   "execution_count": 27,
   "id": "92554b02",
   "metadata": {},
   "outputs": [
    {
     "data": {
      "text/plain": [
       "{'ids': ['id1', 'id2', 'id3'],\n",
       " 'embeddings': None,\n",
       " 'metadatas': [{'source': 'Car Book'},\n",
       "  {'source': 'Bike Book'},\n",
       "  {'source': 'Vechile Info'}],\n",
       " 'documents': ['This is a document containing car information',\n",
       "  'This is a document containing Bike information',\n",
       "  'This document contains four wheeler catalogue'],\n",
       " 'uris': None,\n",
       " 'data': None,\n",
       " 'included': ['metadatas', 'documents']}"
      ]
     },
     "execution_count": 27,
     "metadata": {},
     "output_type": "execute_result"
    }
   ],
   "source": [
    "collection.get()"
   ]
  },
  {
   "cell_type": "code",
   "execution_count": 28,
   "id": "f8939069",
   "metadata": {},
   "outputs": [],
   "source": [
    "result = collection.query(query_texts= ['Passenger vehicle'],n_results=2,where_document={'$contains':  \"document \"})"
   ]
  },
  {
   "cell_type": "code",
   "execution_count": 29,
   "id": "5255d51f",
   "metadata": {},
   "outputs": [
    {
     "data": {
      "text/plain": [
       "{'ids': [['id1', 'id2']],\n",
       " 'distances': [[1.1303800769401344, 1.3304696581578546]],\n",
       " 'metadatas': [[{'source': 'Car Book'}, {'source': 'Bike Book'}]],\n",
       " 'embeddings': None,\n",
       " 'documents': [['This is a document containing car information',\n",
       "   'This is a document containing Bike information']],\n",
       " 'uris': None,\n",
       " 'data': None,\n",
       " 'included': ['metadatas', 'documents', 'distances']}"
      ]
     },
     "execution_count": 29,
     "metadata": {},
     "output_type": "execute_result"
    }
   ],
   "source": [
    "result"
   ]
  },
  {
   "cell_type": "code",
   "execution_count": 30,
   "id": "a077a1ec",
   "metadata": {},
   "outputs": [],
   "source": [
    "result = collection.query(query_texts= ['two wheeler'],n_results=2,where_document={'$contains':  \"document \"})"
   ]
  },
  {
   "cell_type": "code",
   "execution_count": 31,
   "id": "b941287f",
   "metadata": {},
   "outputs": [
    {
     "data": {
      "text/plain": [
       "{'ids': [['id3', 'id2']],\n",
       " 'distances': [[0.9140109637210636, 1.336555640547289]],\n",
       " 'metadatas': [[{'source': 'Vechile Info'}, {'source': 'Bike Book'}]],\n",
       " 'embeddings': None,\n",
       " 'documents': [['This document contains four wheeler catalogue',\n",
       "   'This is a document containing Bike information']],\n",
       " 'uris': None,\n",
       " 'data': None,\n",
       " 'included': ['metadatas', 'documents', 'distances']}"
      ]
     },
     "execution_count": 31,
     "metadata": {},
     "output_type": "execute_result"
    }
   ],
   "source": [
    "result"
   ]
  },
  {
   "cell_type": "code",
   "execution_count": 32,
   "id": "39e3f641",
   "metadata": {},
   "outputs": [],
   "source": [
    "result = collection.query(query_texts= ['scooter'],n_results=2,where_document={'$contains':  \"document \"})"
   ]
  },
  {
   "cell_type": "code",
   "execution_count": 33,
   "id": "1036a182",
   "metadata": {},
   "outputs": [
    {
     "data": {
      "text/plain": [
       "{'ids': [['id2', 'id3']],\n",
       " 'distances': [[1.4343884257416424, 1.4864401044097382]],\n",
       " 'metadatas': [[{'source': 'Bike Book'}, {'source': 'Vechile Info'}]],\n",
       " 'embeddings': None,\n",
       " 'documents': [['This is a document containing Bike information',\n",
       "   'This document contains four wheeler catalogue']],\n",
       " 'uris': None,\n",
       " 'data': None,\n",
       " 'included': ['metadatas', 'documents', 'distances']}"
      ]
     },
     "execution_count": 33,
     "metadata": {},
     "output_type": "execute_result"
    }
   ],
   "source": [
    "result"
   ]
  },
  {
   "cell_type": "code",
   "execution_count": 34,
   "id": "d35e961a",
   "metadata": {},
   "outputs": [
    {
     "data": {
      "text/plain": [
       "{'ids': ['id1', 'id2', 'id3'],\n",
       " 'embeddings': None,\n",
       " 'metadatas': [{'source': 'Car Book'},\n",
       "  {'source': 'Bike Book'},\n",
       "  {'source': 'Vechile Info'}],\n",
       " 'documents': ['This is a document containing car information',\n",
       "  'This is a document containing Bike information',\n",
       "  'This document contains four wheeler catalogue'],\n",
       " 'uris': None,\n",
       " 'data': None,\n",
       " 'included': ['metadatas', 'documents']}"
      ]
     },
     "execution_count": 34,
     "metadata": {},
     "output_type": "execute_result"
    }
   ],
   "source": [
    "collection.get()"
   ]
  },
  {
   "cell_type": "code",
   "execution_count": 35,
   "id": "df81eb21",
   "metadata": {},
   "outputs": [],
   "source": [
    "collection.upsert(ids=['id4'],metadatas=[{'source' :'air vehicle'}],documents=['This document contains aircraft information'])"
   ]
  },
  {
   "cell_type": "code",
   "execution_count": 36,
   "id": "3dab4d05",
   "metadata": {},
   "outputs": [
    {
     "data": {
      "text/plain": [
       "{'ids': ['id1', 'id2', 'id3', 'id4'],\n",
       " 'embeddings': None,\n",
       " 'metadatas': [{'source': 'Car Book'},\n",
       "  {'source': 'Bike Book'},\n",
       "  {'source': 'Vechile Info'},\n",
       "  {'source': 'air vehicle'}],\n",
       " 'documents': ['This is a document containing car information',\n",
       "  'This is a document containing Bike information',\n",
       "  'This document contains four wheeler catalogue',\n",
       "  'This document contains aircraft information'],\n",
       " 'uris': None,\n",
       " 'data': None,\n",
       " 'included': ['metadatas', 'documents']}"
      ]
     },
     "execution_count": 36,
     "metadata": {},
     "output_type": "execute_result"
    }
   ],
   "source": [
    "collection.get()"
   ]
  },
  {
   "cell_type": "code",
   "execution_count": 38,
   "id": "c7cb2d37",
   "metadata": {},
   "outputs": [],
   "source": [
    "result = collection.query(query_texts=['Boeing','Luftansa'],n_results=2)"
   ]
  },
  {
   "cell_type": "code",
   "execution_count": 39,
   "id": "54e686e2",
   "metadata": {},
   "outputs": [
    {
     "data": {
      "text/plain": [
       "{'ids': [['id4', 'id3'], ['id3', 'id2']],\n",
       " 'distances': [[1.2150683126597472, 1.7272924613793166],\n",
       "  [1.7689162708099033, 1.7705464176119465]],\n",
       " 'metadatas': [[{'source': 'air vehicle'}, {'source': 'Vechile Info'}],\n",
       "  [{'source': 'Vechile Info'}, {'source': 'Bike Book'}]],\n",
       " 'embeddings': None,\n",
       " 'documents': [['This document contains aircraft information',\n",
       "   'This document contains four wheeler catalogue'],\n",
       "  ['This document contains four wheeler catalogue',\n",
       "   'This is a document containing Bike information']],\n",
       " 'uris': None,\n",
       " 'data': None,\n",
       " 'included': ['metadatas', 'documents', 'distances']}"
      ]
     },
     "execution_count": 39,
     "metadata": {},
     "output_type": "execute_result"
    }
   ],
   "source": [
    "result"
   ]
  },
  {
   "cell_type": "code",
   "execution_count": 42,
   "id": "a4476c1d",
   "metadata": {},
   "outputs": [],
   "source": [
    "result = collection.query(query_texts=['Boeing','Airbus'],n_results=2)"
   ]
  },
  {
   "cell_type": "code",
   "execution_count": 43,
   "id": "6cdbdf0d",
   "metadata": {},
   "outputs": [
    {
     "data": {
      "text/plain": [
       "{'ids': [['id4', 'id3'], ['id4', 'id1']],\n",
       " 'distances': [[1.2150683126597472, 1.7272924613793166],\n",
       "  [1.3654262714881247, 1.5719802567481735]],\n",
       " 'metadatas': [[{'source': 'air vehicle'}, {'source': 'Vechile Info'}],\n",
       "  [{'source': 'air vehicle'}, {'source': 'Car Book'}]],\n",
       " 'embeddings': None,\n",
       " 'documents': [['This document contains aircraft information',\n",
       "   'This document contains four wheeler catalogue'],\n",
       "  ['This document contains aircraft information',\n",
       "   'This is a document containing car information']],\n",
       " 'uris': None,\n",
       " 'data': None,\n",
       " 'included': ['metadatas', 'documents', 'distances']}"
      ]
     },
     "execution_count": 43,
     "metadata": {},
     "output_type": "execute_result"
    }
   ],
   "source": [
    "result"
   ]
  },
  {
   "cell_type": "code",
   "execution_count": 45,
   "id": "97dfaa23",
   "metadata": {},
   "outputs": [
    {
     "data": {
      "text/plain": [
       "'default_database'"
      ]
     },
     "execution_count": 45,
     "metadata": {},
     "output_type": "execute_result"
    }
   ],
   "source": [
    "collection.database"
   ]
  },
  {
   "cell_type": "code",
   "execution_count": 48,
   "id": "459f2bc6",
   "metadata": {},
   "outputs": [
    {
     "data": {
      "text/plain": [
       "{'ids': ['id1'],\n",
       " 'embeddings': [[-0.03601692616939545,\n",
       "   0.16348546743392944,\n",
       "   -0.011282119899988174,\n",
       "   0.0003502750478219241,\n",
       "   0.031290244311094284,\n",
       "   0.03642519563436508,\n",
       "   -0.005638220813125372,\n",
       "   0.0805431380867958,\n",
       "   0.008724415674805641,\n",
       "   -0.051723092794418335,\n",
       "   0.02376483753323555,\n",
       "   0.06697870790958405,\n",
       "   0.004929132293909788,\n",
       "   -0.030660955235362053,\n",
       "   -0.11475280672311783,\n",
       "   -0.007930280640721321,\n",
       "   -0.007566841319203377,\n",
       "   0.01498202420771122,\n",
       "   -0.018221918493509293,\n",
       "   0.05167149379849434,\n",
       "   0.0510072335600853,\n",
       "   0.09779320657253265,\n",
       "   0.017965832725167274,\n",
       "   -0.0008504468132741749,\n",
       "   -0.026997104287147522,\n",
       "   0.09000291675329208,\n",
       "   -0.06100492179393768,\n",
       "   0.04952206462621689,\n",
       "   0.015581986866891384,\n",
       "   -0.0314750000834465,\n",
       "   0.032569266855716705,\n",
       "   0.048659004271030426,\n",
       "   0.10379625856876373,\n",
       "   0.019548676908016205,\n",
       "   0.03583250567317009,\n",
       "   -0.11153002828359604,\n",
       "   -0.012302175164222717,\n",
       "   0.0071576000191271305,\n",
       "   -0.001092460355721414,\n",
       "   -0.0023535622749477625,\n",
       "   -0.03964610397815704,\n",
       "   -0.1023709774017334,\n",
       "   -0.0348045714199543,\n",
       "   0.04185982421040535,\n",
       "   0.061483483761548996,\n",
       "   0.08029260486364365,\n",
       "   0.00041688798228278756,\n",
       "   0.023355744779109955,\n",
       "   0.02180446684360504,\n",
       "   0.004552829544991255,\n",
       "   -0.07191190868616104,\n",
       "   -0.0009945398196578026,\n",
       "   0.0014897221699357033,\n",
       "   -0.017794540151953697,\n",
       "   -0.027197131887078285,\n",
       "   0.031915172934532166,\n",
       "   -0.032587721943855286,\n",
       "   0.05259869992733002,\n",
       "   -0.06308245658874512,\n",
       "   -0.0019454098073765635,\n",
       "   0.05308951810002327,\n",
       "   0.004564041271805763,\n",
       "   -0.0508064329624176,\n",
       "   0.04572847858071327,\n",
       "   0.026716025546193123,\n",
       "   0.04611390456557274,\n",
       "   -0.01124267466366291,\n",
       "   -0.01819998025894165,\n",
       "   -0.024042492732405663,\n",
       "   -0.045313697308301926,\n",
       "   0.011086748912930489,\n",
       "   0.0050271181389689445,\n",
       "   0.03049837239086628,\n",
       "   0.004612491000443697,\n",
       "   -0.010505668818950653,\n",
       "   -0.07358380407094955,\n",
       "   -0.006848407909274101,\n",
       "   0.016647115349769592,\n",
       "   0.01109672337770462,\n",
       "   -0.09877212345600128,\n",
       "   -0.00616763811558485,\n",
       "   0.0036020928528159857,\n",
       "   0.02717624418437481,\n",
       "   0.009392288513481617,\n",
       "   0.03253054618835449,\n",
       "   -0.019131803885102272,\n",
       "   0.041700419038534164,\n",
       "   -0.006937125232070684,\n",
       "   -0.04437871277332306,\n",
       "   0.019528256729245186,\n",
       "   -0.042655233293771744,\n",
       "   -0.11135314404964447,\n",
       "   0.042791951447725296,\n",
       "   -0.014500209130346775,\n",
       "   -0.06389755755662918,\n",
       "   0.048974163830280304,\n",
       "   0.008718901313841343,\n",
       "   -0.06672818213701248,\n",
       "   0.09671009331941605,\n",
       "   0.06318607181310654,\n",
       "   0.06270363926887512,\n",
       "   0.06505031138658524,\n",
       "   0.02472573332488537,\n",
       "   0.0059218984097242355,\n",
       "   -0.11780812591314316,\n",
       "   -0.03129763528704643,\n",
       "   -0.009390827268362045,\n",
       "   0.04591165855526924,\n",
       "   0.0077467551454901695,\n",
       "   -0.00620412128046155,\n",
       "   0.014496502466499805,\n",
       "   -0.0044495356269180775,\n",
       "   -0.12454093992710114,\n",
       "   -0.07395545393228531,\n",
       "   -0.04830970615148544,\n",
       "   -0.07201557606458664,\n",
       "   -0.008268710225820541,\n",
       "   0.04390192776918411,\n",
       "   0.03849025443196297,\n",
       "   0.023410886526107788,\n",
       "   -0.04846056550741196,\n",
       "   -0.07211735844612122,\n",
       "   -0.017709441483020782,\n",
       "   -0.029691273346543312,\n",
       "   -0.042389243841171265,\n",
       "   -0.055267129093408585,\n",
       "   0.03977561369538307,\n",
       "   -6.927840608760447e-33,\n",
       "   -0.04086770862340927,\n",
       "   0.018880292773246765,\n",
       "   -0.03180523216724396,\n",
       "   0.08575253933668137,\n",
       "   -0.010198916308581829,\n",
       "   0.03571499511599541,\n",
       "   -0.0334429107606411,\n",
       "   0.004958619363605976,\n",
       "   -0.05786232277750969,\n",
       "   0.01718228869140148,\n",
       "   0.004928969778120518,\n",
       "   0.0056800865568220615,\n",
       "   -0.02300873026251793,\n",
       "   -0.0068927062675356865,\n",
       "   -0.008596385829150677,\n",
       "   0.06971436738967896,\n",
       "   -0.1293158233165741,\n",
       "   0.07122521102428436,\n",
       "   0.006490621250122786,\n",
       "   -0.06823556870222092,\n",
       "   0.014622442424297333,\n",
       "   0.02246786653995514,\n",
       "   0.05223434418439865,\n",
       "   -0.0037377108819782734,\n",
       "   0.13320010900497437,\n",
       "   0.07110857218503952,\n",
       "   0.005816079210489988,\n",
       "   -0.01052599772810936,\n",
       "   0.004840960260480642,\n",
       "   0.013845404610037804,\n",
       "   0.03929968550801277,\n",
       "   0.027555489912629128,\n",
       "   -0.001250085886567831,\n",
       "   -0.07919249683618546,\n",
       "   0.0350620299577713,\n",
       "   0.08609547466039658,\n",
       "   -0.08802185952663422,\n",
       "   -0.07682324200868607,\n",
       "   0.00480791088193655,\n",
       "   -0.005995428655296564,\n",
       "   0.05079428851604462,\n",
       "   -0.045072559267282486,\n",
       "   -0.0025870243553072214,\n",
       "   -0.028784241527318954,\n",
       "   -0.04764921963214874,\n",
       "   0.03407929092645645,\n",
       "   0.006476788315922022,\n",
       "   -0.008945942856371403,\n",
       "   0.08399788290262222,\n",
       "   0.04927532374858856,\n",
       "   -0.06008148938417435,\n",
       "   -0.038248006254434586,\n",
       "   -0.02823585271835327,\n",
       "   -0.06130444258451462,\n",
       "   0.01787651516497135,\n",
       "   0.06278955191373825,\n",
       "   -0.0036359084770083427,\n",
       "   0.045655928552150726,\n",
       "   -0.0457206629216671,\n",
       "   -0.024435777217149734,\n",
       "   -0.05120474472641945,\n",
       "   0.05223569646477699,\n",
       "   0.022924276068806648,\n",
       "   -0.05237125977873802,\n",
       "   -0.015419402159750462,\n",
       "   -0.004278705455362797,\n",
       "   -0.07384808361530304,\n",
       "   -0.03930455073714256,\n",
       "   0.08333878219127655,\n",
       "   -0.005644172430038452,\n",
       "   -0.04153650254011154,\n",
       "   0.008112051524221897,\n",
       "   0.038562458008527756,\n",
       "   -0.02745889499783516,\n",
       "   -0.0012386414455249906,\n",
       "   0.0654822513461113,\n",
       "   0.0022987325210124254,\n",
       "   -0.03071507066488266,\n",
       "   -0.07205197960138321,\n",
       "   -0.0048522986471652985,\n",
       "   -0.08455009013414383,\n",
       "   -0.056314848363399506,\n",
       "   0.05646662414073944,\n",
       "   0.01898789592087269,\n",
       "   0.02026243321597576,\n",
       "   0.0808672234416008,\n",
       "   0.023243818432092667,\n",
       "   -0.03472621366381645,\n",
       "   -0.0014363840455189347,\n",
       "   0.025368252769112587,\n",
       "   0.017782488837838173,\n",
       "   0.0060067204758524895,\n",
       "   -0.1259562373161316,\n",
       "   -0.020021753385663033,\n",
       "   0.04902322590351105,\n",
       "   3.3794294438629636e-33,\n",
       "   0.0003052967949770391,\n",
       "   -0.07052469998598099,\n",
       "   -0.025866171345114708,\n",
       "   0.0012829962652176619,\n",
       "   0.010230259969830513,\n",
       "   0.02361934818327427,\n",
       "   -0.020900486037135124,\n",
       "   0.01858045719563961,\n",
       "   0.013074532151222229,\n",
       "   0.0761415883898735,\n",
       "   -0.023072583600878716,\n",
       "   -0.048158902674913406,\n",
       "   0.03728953376412392,\n",
       "   -0.011106599122285843,\n",
       "   0.007310260087251663,\n",
       "   0.018085122108459473,\n",
       "   0.06887858361005783,\n",
       "   -0.052711714059114456,\n",
       "   -0.03636186197400093,\n",
       "   0.03672107681632042,\n",
       "   -0.09997979551553726,\n",
       "   -0.004244753625243902,\n",
       "   -0.005836116150021553,\n",
       "   0.05956284701824188,\n",
       "   0.018606621772050858,\n",
       "   -0.014079979620873928,\n",
       "   0.017308969050645828,\n",
       "   -0.05306744948029518,\n",
       "   0.02818865142762661,\n",
       "   -0.025356410071253777,\n",
       "   0.005129245575517416,\n",
       "   -0.10341216623783112,\n",
       "   -0.08516863733530045,\n",
       "   0.07638081908226013,\n",
       "   -0.07778073102235794,\n",
       "   -0.09291335940361023,\n",
       "   0.08557754009962082,\n",
       "   0.02858889289200306,\n",
       "   -0.07310133427381516,\n",
       "   0.03101009503006935,\n",
       "   0.015865476801991463,\n",
       "   0.01962762326002121,\n",
       "   0.014895889908075333,\n",
       "   0.016423150897026062,\n",
       "   -0.034101735800504684,\n",
       "   -0.08862380683422089,\n",
       "   -0.009598706848919392,\n",
       "   0.037595294415950775,\n",
       "   0.05188929662108421,\n",
       "   0.0347568616271019,\n",
       "   0.11486127227544785,\n",
       "   -0.04402204230427742,\n",
       "   -0.050260331481695175,\n",
       "   0.01893600821495056,\n",
       "   -0.06935349851846695,\n",
       "   0.07686898857355118,\n",
       "   0.030912403017282486,\n",
       "   0.005744505673646927,\n",
       "   0.004310646094381809,\n",
       "   0.037055738270282745,\n",
       "   0.060957249253988266,\n",
       "   0.05250363424420357,\n",
       "   -0.08217407763004303,\n",
       "   0.04272187873721123,\n",
       "   0.017897337675094604,\n",
       "   -0.1563456803560257,\n",
       "   -0.06192173808813095,\n",
       "   -0.06425108015537262,\n",
       "   -0.02361603081226349,\n",
       "   -0.040861938148736954,\n",
       "   0.06394029408693314,\n",
       "   -0.054032616317272186,\n",
       "   -0.025888683274388313,\n",
       "   -0.022950472310185432,\n",
       "   0.028761526569724083,\n",
       "   -0.013249575160443783,\n",
       "   0.043046772480010986,\n",
       "   0.0020614692475646734,\n",
       "   -0.04802018776535988,\n",
       "   -0.043525613844394684,\n",
       "   0.10488186776638031,\n",
       "   0.014913985505700111,\n",
       "   0.009139524772763252,\n",
       "   0.11696915328502655,\n",
       "   0.0416453592479229,\n",
       "   -0.012742801569402218,\n",
       "   -0.03601166233420372,\n",
       "   -0.020611288025975227,\n",
       "   0.06699374318122864,\n",
       "   -0.00628555566072464,\n",
       "   -0.06427744030952454,\n",
       "   0.10345649719238281,\n",
       "   -0.08382600545883179,\n",
       "   0.04307706281542778,\n",
       "   -0.13437601923942566,\n",
       "   -1.551777017994027e-08,\n",
       "   0.01158522441983223,\n",
       "   -0.018595384433865547,\n",
       "   -0.015458847396075726,\n",
       "   -0.03811199963092804,\n",
       "   -0.005713506136089563,\n",
       "   0.03772956505417824,\n",
       "   0.05159248411655426,\n",
       "   0.010749254375696182,\n",
       "   -0.1218269020318985,\n",
       "   -0.023956818506121635,\n",
       "   0.09683068841695786,\n",
       "   -0.019647205248475075,\n",
       "   -0.05573303624987602,\n",
       "   -0.03929169103503227,\n",
       "   0.004368065390735865,\n",
       "   0.00456571439281106,\n",
       "   0.02700156159698963,\n",
       "   -0.029273388907313347,\n",
       "   -0.009487339295446873,\n",
       "   0.04480361565947533,\n",
       "   0.010396763682365417,\n",
       "   -0.009559780359268188,\n",
       "   -0.03437880799174309,\n",
       "   0.06542583554983139,\n",
       "   0.043704792857170105,\n",
       "   -0.025091756135225296,\n",
       "   0.012938547879457474,\n",
       "   0.06227834150195122,\n",
       "   0.06042146310210228,\n",
       "   -0.08393363654613495,\n",
       "   -0.031743235886096954,\n",
       "   0.09573038667440414,\n",
       "   0.11832179129123688,\n",
       "   -0.0016361973248422146,\n",
       "   0.03511985391378403,\n",
       "   0.03637333959341049,\n",
       "   0.051399655640125275,\n",
       "   0.029949933290481567,\n",
       "   -0.023814799264073372,\n",
       "   -0.03354943171143532,\n",
       "   0.0859161764383316,\n",
       "   0.0013194630155339837,\n",
       "   -0.06312151998281479,\n",
       "   0.042547229677438736,\n",
       "   0.08319408446550369,\n",
       "   0.015537033788859844,\n",
       "   -0.008124183863401413,\n",
       "   -0.05647106096148491,\n",
       "   -0.04360724613070488,\n",
       "   -0.04812220484018326,\n",
       "   -0.024070870131254196,\n",
       "   -0.07217825949192047,\n",
       "   0.022513989359140396,\n",
       "   0.13427826762199402,\n",
       "   -0.07886726409196854,\n",
       "   -0.033729925751686096,\n",
       "   0.03938780352473259,\n",
       "   0.00855497270822525,\n",
       "   0.03719367831945419,\n",
       "   -0.0781012624502182,\n",
       "   0.03688168153166771,\n",
       "   0.10995356738567352,\n",
       "   0.03524327650666237,\n",
       "   0.02022428810596466]],\n",
       " 'metadatas': [{'source': 'Car Book'}],\n",
       " 'documents': ['This is a document containing car information'],\n",
       " 'uris': None,\n",
       " 'data': None,\n",
       " 'included': ['embeddings', 'metadatas', 'documents']}"
      ]
     },
     "execution_count": 48,
     "metadata": {},
     "output_type": "execute_result"
    }
   ],
   "source": [
    "collection.peek(limit=1)"
   ]
  },
  {
   "cell_type": "code",
   "execution_count": 55,
   "id": "17773177",
   "metadata": {},
   "outputs": [],
   "source": [
    "collection.modify(name ='my_information1')"
   ]
  },
  {
   "cell_type": "code",
   "execution_count": 56,
   "id": "f5682ab5",
   "metadata": {},
   "outputs": [],
   "source": [
    "client.get_collection('my_collection').modify(name='my_collection1')"
   ]
  },
  {
   "cell_type": "code",
   "execution_count": null,
   "id": "894f91e3",
   "metadata": {},
   "outputs": [],
   "source": []
  }
 ],
 "metadata": {
  "kernelspec": {
   "display_name": "Python 3 (ipykernel)",
   "language": "python",
   "name": "python3"
  },
  "language_info": {
   "codemirror_mode": {
    "name": "ipython",
    "version": 3
   },
   "file_extension": ".py",
   "mimetype": "text/x-python",
   "name": "python",
   "nbconvert_exporter": "python",
   "pygments_lexer": "ipython3",
   "version": "3.11.4"
  }
 },
 "nbformat": 4,
 "nbformat_minor": 5
}
